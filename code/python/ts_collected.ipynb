{
 "cells": [
  {
   "cell_type": "markdown",
   "metadata": {},
   "source": [
    "# Time-Series Classification: Collected Dataset\n",
    "_by Mikhail Karasikov_"
   ]
  },
  {
   "cell_type": "code",
   "execution_count": 1,
   "metadata": {
    "collapsed": false
   },
   "outputs": [
    {
     "data": {
      "text/plain": [
       "('VEHICLE_dataset.mat', <http.client.HTTPMessage at 0x42e55f8>)"
      ]
     },
     "execution_count": 1,
     "metadata": {},
     "output_type": "execute_result"
    }
   ],
   "source": [
    "import urllib.request\n",
    "\n",
    "dataset_name = 'VEHICLE'\n",
    "\n",
    "testfile = urllib.request.URLopener()\n",
    "testfile.retrieve(\"http://w17407.vdi.mipt.ru/ts_data/{}/dataset.mat\".format(dataset_name),\n",
    "                  \"{}_dataset.mat\".format(dataset_name))"
   ]
  },
  {
   "cell_type": "code",
   "execution_count": 2,
   "metadata": {
    "collapsed": false
   },
   "outputs": [
    {
     "name": "stdout",
     "output_type": "stream",
     "text": [
      "Dataset size: 188\n",
      "Stats:\n",
      "       dim  len\n",
      "mean    4  276\n",
      "std     0  145\n",
      "min     4   10\n",
      "25%     4  170\n",
      "50%     4  225\n",
      "75%     4  396\n",
      "max     4  602\n"
     ]
    }
   ],
   "source": [
    "import numpy as np\n",
    "import pandas\n",
    "import multiclass\n",
    "import timeseries\n",
    "import feature_extraction\n",
    "\n",
    "dataset = timeseries.TSDataset.load_from_mat(\"./{}_dataset.mat\".format(dataset_name))\n",
    "print(\"Dataset size: %d\" % len(dataset))\n",
    "print(\"Stats:\\n\", pandas.DataFrame([ts.shape for ts in dataset.ts],\n",
    "                                   columns=['dim', 'len']).describe()[1:].round())"
   ]
  },
  {
   "cell_type": "code",
   "execution_count": 3,
   "metadata": {
    "collapsed": false
   },
   "outputs": [
    {
     "data": {
      "text/plain": [
       "(188, 63)"
      ]
     },
     "execution_count": 3,
     "metadata": {},
     "output_type": "execute_result"
    }
   ],
   "source": [
    "import sklearn.preprocessing\n",
    "\n",
    "freq = 20\n",
    "\n",
    "ts_smoothed = [\n",
    "    timeseries.transform_frequency(ts[0], ts[1:], freq, kind='linear')[1]\n",
    "    for ts in dataset.ts\n",
    "]\n",
    "\n",
    "X = timeseries.ExtractFeatures(ts_smoothed,\n",
    "    lambda ts: ts.mean(1),\n",
    "    lambda ts: ts.std(1),\n",
    "    lambda ts: np.abs(ts - ts.mean(1).reshape(-1, 1)).mean(1),\n",
    "    lambda ts: np.sqrt((ts ** 2).sum(0)).mean(),\n",
    "    lambda ts: np.histogram(ts[0], density=True, bins=10)[0] * (ts[0].max() - ts[0].min()) / 10,\n",
    "    lambda ts: np.histogram(ts[1], density=True, bins=10)[0] * (ts[1].max() - ts[1].min()) / 10,\n",
    "    lambda ts: np.histogram(ts[2], density=True, bins=10)[0] * (ts[2].max() - ts[2].min()) / 10,\n",
    "    lambda ts: feature_extraction.ar_parameters(ts, np.arange(1, 5)),\n",
    "    lambda ts: feature_extraction.dft_features(np.sqrt((ts[:3] ** 2).sum(0)), 5)[1:]\n",
    ")\n",
    "\n",
    "X_normalized = sklearn.preprocessing.MinMaxScaler(feature_range=(-1, 1)).fit_transform(X)\n",
    "X_normalized.shape"
   ]
  },
  {
   "cell_type": "code",
   "execution_count": 4,
   "metadata": {
    "collapsed": false
   },
   "outputs": [
    {
     "name": "stderr",
     "output_type": "stream",
     "text": [
      "[Parallel(n_jobs=2)]: Done   1 jobs       | elapsed:    1.9s\n",
      "[Parallel(n_jobs=2)]: Done  50 jobs       | elapsed:    3.1s\n",
      "[Parallel(n_jobs=2)]: Done 200 jobs       | elapsed:    3.9s\n",
      "[Parallel(n_jobs=2)]: Done 450 jobs       | elapsed:    5.4s\n",
      "[Parallel(n_jobs=2)]: Done 800 jobs       | elapsed:    7.3s\n",
      "[Parallel(n_jobs=2)]: Done 1250 jobs       | elapsed:   10.4s\n",
      "[Parallel(n_jobs=2)]: Done 1800 jobs       | elapsed:   13.7s\n",
      "[Parallel(n_jobs=2)]: Done 2450 jobs       | elapsed:   17.9s\n",
      "[Parallel(n_jobs=2)]: Done 2998 out of 3000 | elapsed:   21.0s remaining:    0.0s\n",
      "[Parallel(n_jobs=2)]: Done 3000 out of 3000 | elapsed:   21.0s finished\n"
     ]
    },
    {
     "name": "stdout",
     "output_type": "stream",
     "text": [
      "Fitting 30 folds for each of 100 candidates, totalling 3000 fits\n",
      "Best score: 0.902666666667 \n",
      "Best parameters: {'gamma': 0.12915496650148828, 'C': 10.0}\n"
     ]
    },
    {
     "data": {
      "image/png": "[encoded data removed]",
      "text/plain": [
       "<matplotlib.figure.Figure at 0x9e5ac18>"
      ]
     },
     "metadata": {},
     "output_type": "display_data"
    }
   ],
   "source": [
    "from sklearn.grid_search import GridSearchCV\n",
    "from sklearn import svm, cross_validation\n",
    "import multiclass\n",
    "%matplotlib inline\n",
    "\n",
    "indices = np.array([label != '?' and label != '1METRO' for label in dataset.label])\n",
    "\n",
    "grid_search_cv = GridSearchCV(\n",
    "    svm.SVC(),\n",
    "    {\n",
    "        'gamma': np.logspace(-4, 0, 10),\n",
    "        'C': np.logspace(0, 3, 10),\n",
    "    },\n",
    "    scoring=None,\n",
    "    n_jobs=2,\n",
    "    refit=False,\n",
    "    cv=cross_validation.ShuffleSplit(dataset.label[indices].size, n_iter=30, test_size=0.3, random_state=17),\n",
    "    verbose=1,\n",
    "    error_score='raise'\n",
    ").fit(X_normalized[indices], dataset.label[indices])\n",
    "\n",
    "print('Best score:', grid_search_cv.best_score_, '\\nBest parameters:', grid_search_cv.best_params_)\n",
    "multiclass.plot_grid_search_scores(grid_search_cv)"
   ]
  },
  {
   "cell_type": "code",
   "execution_count": 5,
   "metadata": {
    "collapsed": false
   },
   "outputs": [
    {
     "name": "stdout",
     "output_type": "stream",
     "text": [
      "........................................................................................................................................................................................................\n",
      "Mean accuracy: 0.901\n",
      "Confusion matrix:\n",
      " [[ 0.86  0.11  0.03]\n",
      " [ 0.04  0.94  0.01]\n",
      " [ 0.09  0.02  0.88]]\n"
     ]
    },
    {
     "data": {
      "image/png": "[encoded data removed]",
      "text/plain": [
       "<matplotlib.figure.Figure at 0xa31f3c8>"
      ]
     },
     "metadata": {},
     "output_type": "display_data"
    }
   ],
   "source": [
    "confusion_mean = multiclass.cross_val_score(\n",
    "    svm.SVC(**grid_search_cv.best_params_),\n",
    "    X_normalized[indices], dataset.label[indices],\n",
    "    cross_validation.ShuffleSplit(dataset.label[indices].size, n_iter=200, test_size=0.3, random_state=17)\n",
    ")"
   ]
  }
 ],
 "metadata": {
  "kernelspec": {
   "display_name": "Python 3",
   "language": "python",
   "name": "python3"
  },
  "language_info": {
   "codemirror_mode": {
    "name": "ipython",
    "version": 3
   },
   "file_extension": ".py",
   "mimetype": "text/x-python",
   "name": "python",
   "nbconvert_exporter": "python",
   "pygments_lexer": "ipython3",
   "version": "3.4.4"
  }
 },
 "nbformat": 4,
 "nbformat_minor": 0
}
